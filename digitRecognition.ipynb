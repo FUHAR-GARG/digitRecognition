{
  "nbformat": 4,
  "nbformat_minor": 0,
  "metadata": {
    "colab": {
      "provenance": [],
      "authorship_tag": "ABX9TyM84FzHNYRRA70QFagYlnK6",
      "include_colab_link": true
    },
    "kernelspec": {
      "name": "python3",
      "display_name": "Python 3"
    },
    "language_info": {
      "name": "python"
    }
  },
  "cells": [
    {
      "cell_type": "markdown",
      "metadata": {
        "id": "view-in-github",
        "colab_type": "text"
      },
      "source": [
        "<a href=\"https://colab.research.google.com/github/FUHAR-GARG/digitRecognition/blob/main/digitRecognition.ipynb\" target=\"_parent\"><img src=\"https://colab.research.google.com/assets/colab-badge.svg\" alt=\"Open In Colab\"/></a>"
      ]
    },
    {
      "cell_type": "code",
      "execution_count": 1,
      "metadata": {
        "id": "NW90RkCENLx2"
      },
      "outputs": [],
      "source": [
        "import os\n",
        "import cv2\n",
        "import numpy as np\n",
        "import matplotlib.pyplot as plt\n",
        "import tensorflow as tf"
      ]
    },
    {
      "cell_type": "code",
      "source": [
        "mnist = tf.keras.datasets.mnist"
      ],
      "metadata": {
        "id": "_Eo9TzU4N8U8"
      },
      "execution_count": 2,
      "outputs": []
    },
    {
      "cell_type": "code",
      "source": [
        "(x_train , y_train) , (x_test , y_test) = mnist.load_data()\n",
        "x_train = tf.keras.utils.normalize(x_train , axis=1)\n",
        "x_test = tf.keras.utils.normalize(x_test , axis =1)\n",
        "model = tf.keras.models.Sequential()\n",
        "model.add(tf.keras.layers.Flatten(input_shape=(28,28)))\n",
        "model.add(tf.keras.layers.Dense(128 , activation='relu'))\n",
        "model.add(tf.keras.layers.Dense(128 , activation='relu'))\n",
        "model.add(tf.keras.layers.Dense(128 , activation='relu'))\n",
        "model.add(tf.keras.layers.Dense(10 , activation='softmax'))\n",
        "model.compile(optimizer='adam',loss='sparse_categorical_crossentropy', metrics=['accuracy'])\n",
        "model.fit(x_train, y_train,epochs=5)\n",
        "model.save('handwritten.model')"
      ],
      "metadata": {
        "colab": {
          "base_uri": "https://localhost:8080/"
        },
        "id": "xArSdChTOD5S",
        "outputId": "233d4218-3ff9-481a-a29e-0dea2ee74f20"
      },
      "execution_count": 3,
      "outputs": [
        {
          "output_type": "stream",
          "name": "stdout",
          "text": [
            "Downloading data from https://storage.googleapis.com/tensorflow/tf-keras-datasets/mnist.npz\n",
            "11490434/11490434 [==============================] - 0s 0us/step\n",
            "Epoch 1/5\n",
            "1875/1875 [==============================] - 6s 2ms/step - loss: 0.2534 - accuracy: 0.9234\n",
            "Epoch 2/5\n",
            "1875/1875 [==============================] - 5s 2ms/step - loss: 0.1049 - accuracy: 0.9674\n",
            "Epoch 3/5\n",
            "1875/1875 [==============================] - 4s 2ms/step - loss: 0.0727 - accuracy: 0.9767\n",
            "Epoch 4/5\n",
            "1875/1875 [==============================] - 4s 2ms/step - loss: 0.0564 - accuracy: 0.9821\n",
            "Epoch 5/5\n",
            "1875/1875 [==============================] - 5s 3ms/step - loss: 0.0434 - accuracy: 0.9857\n"
          ]
        },
        {
          "output_type": "stream",
          "name": "stderr",
          "text": [
            "WARNING:absl:Found untraced functions such as _update_step_xla while saving (showing 1 of 1). These functions will not be directly callable after loading.\n"
          ]
        }
      ]
    },
    {
      "cell_type": "code",
      "source": [
        "model=tf.keras.models.load_model('handwritten.model')"
      ],
      "metadata": {
        "id": "DxJ8dITpOYca"
      },
      "execution_count": 4,
      "outputs": []
    },
    {
      "cell_type": "code",
      "source": [
        "loss , accuracy = model.evaluate(x_test,y_test)\n",
        "print(loss)\n",
        "print(accuracy)"
      ],
      "metadata": {
        "colab": {
          "base_uri": "https://localhost:8080/"
        },
        "id": "RuqBIL44Okdr",
        "outputId": "1b0958f1-16b1-4ff3-ae6f-8a7f77c945ee"
      },
      "execution_count": 5,
      "outputs": [
        {
          "output_type": "stream",
          "name": "stdout",
          "text": [
            "313/313 [==============================] - 0s 1ms/step - loss: 0.0887 - accuracy: 0.9744\n",
            "0.08869922161102295\n",
            "0.974399983882904\n"
          ]
        }
      ]
    },
    {
      "cell_type": "code",
      "source": [
        "import os\n",
        "from PIL import Image\n",
        "\n",
        "info = []\n",
        "for root, __, files in os.walk(\"https://drive.google.com/drive/folders/1sCZK8uTx1VersiV5ZsLenZcKoleLmW4Y?usp=sharing\"):\n",
        "  for f in files:\n",
        "      if f.endswith(\".jpg\"):\n",
        "         info.append({\n",
        "                     \"img\": Image.open(os.path.join(root, f)), # add an appropriate reading flag if you want\n",
        "                     # optional\n",
        "                     # \"foldername\": os.path.dirname(root)\n",
        "                     })\n",
        "\n",
        "# do whatever you want with the infolist you have now"
      ],
      "metadata": {
        "id": "4n6ADaWOOwUj"
      },
      "execution_count": 6,
      "outputs": []
    },
    {
      "cell_type": "code",
      "source": [
        "import os\n",
        "import cv2\n",
        "import numpy as np\n",
        "import matplotlib.pyplot as plt\n",
        "import glob\n",
        "\n",
        "# Assuming the images are in \".jpg\" format and located in the \"digits\" folder\n",
        "\n",
        "image_paths = glob.glob(\"images/img*.png\")\n",
        "for image_path in image_paths:\n",
        "    try:\n",
        "        img = cv2.imread(image_path)[:, :, 0]\n",
        "        img = np.invert(np.array([img]))\n",
        "        prediction = model.predict(img)\n",
        "        print(f\"This digit is probably a {np.argmax(prediction)}\")\n",
        "        plt.imshow(img[0], cmap=plt.cm.binary)\n",
        "        plt.show()\n",
        "    except Exception as e:\n",
        "        print(f\"Error processing {image_path}: {e}\")\n"
      ],
      "metadata": {
        "id": "Y9zmUyokO2kc"
      },
      "execution_count": 7,
      "outputs": []
    },
    {
      "cell_type": "code",
      "source": [
        "images=1\n",
        "while os.path.isfile(\"images/img*.png\"):\n",
        "  try:\n",
        "    img=cv2.imread(\"images/img*.png\")[:,:,0]\n",
        "    img=np.invert(np.array([img]))\n",
        "    prediction=model.predict(img)\n",
        "    print(f\"this digit is probably a {np.argmax(prediction)}\")\n",
        "    plt.imshow(img[0],cmap=plt.cm.binary)\n",
        "    plt.show()\n",
        "  except:\n",
        "    print(\"error\")\n",
        "  finally:\n",
        "    images+=1"
      ],
      "metadata": {
        "id": "f5YMVlQqPH-b"
      },
      "execution_count": 8,
      "outputs": []
    },
    {
      "cell_type": "code",
      "source": [
        "\n",
        "os.path.isfile(\"img1.png\")\n",
        "img=cv2.imread(\"img1.png\")[:,:,0]\n",
        "img=np.invert(np.array([img]))\n",
        "prediction=model.predict(img)\n",
        "print(f\"this digit is probably a {np.argmax(prediction)}\")\n",
        "plt.imshow(img[0],cmap=plt.cm.binary)\n",
        "plt.show()\n",
        ""
      ],
      "metadata": {
        "colab": {
          "base_uri": "https://localhost:8080/",
          "height": 465
        },
        "id": "giDFfyHlPmKq",
        "outputId": "ca3253e2-5ee0-47e5-8aba-218c911bbbdf"
      },
      "execution_count": 10,
      "outputs": [
        {
          "output_type": "stream",
          "name": "stdout",
          "text": [
            "1/1 [==============================] - 0s 78ms/step\n",
            "this digit is probably a 3\n"
          ]
        },
        {
          "output_type": "display_data",
          "data": {
            "text/plain": [
              "<Figure size 640x480 with 1 Axes>"
            ],
            "image/png": "[encoded data removed]"
          },
          "metadata": {}
        }
      ]
    },
    {
      "cell_type": "code",
      "source": [
        "os.path.isfile(\"img5.png\")\n",
        "img=cv2.imread(\"img5.png\")[:,:,0]\n",
        "img=np.invert(np.array([img]))\n",
        "prediction=model.predict(img)\n",
        "print(f\"this digit is probably a {np.argmax(prediction)}\")\n",
        "plt.imshow(img[0],cmap=plt.cm.binary)\n",
        "plt.show()"
      ],
      "metadata": {
        "colab": {
          "base_uri": "https://localhost:8080/",
          "height": 465
        },
        "id": "KZXM7icbQQ5P",
        "outputId": "94c11fbc-6849-4344-b907-9b7b597e26d5"
      },
      "execution_count": 12,
      "outputs": [
        {
          "output_type": "stream",
          "name": "stdout",
          "text": [
            "1/1 [==============================] - 0s 15ms/step\n",
            "this digit is probably a 2\n"
          ]
        },
        {
          "output_type": "display_data",
          "data": {
            "text/plain": [
              "<Figure size 640x480 with 1 Axes>"
            ],
            "image/png": "[encoded data removed]"
          },
          "metadata": {}
        }
      ]
    },
    {
      "cell_type": "code",
      "source": [
        "os.path.isfile(\"img9.png\")\n",
        "img=cv2.imread(\"img9.png\")[:,:,0]\n",
        "img=np.invert(np.array([img]))\n",
        "prediction=model.predict(img)\n",
        "print(f\"this digit is probably a {np.argmax(prediction)}\")\n",
        "plt.imshow(img[0],cmap=plt.cm.binary)\n",
        "plt.show()"
      ],
      "metadata": {
        "colab": {
          "base_uri": "https://localhost:8080/",
          "height": 465
        },
        "id": "Q_6xfXvUQWDo",
        "outputId": "0a63c582-0d90-44b5-bc9b-6c71dab2294b"
      },
      "execution_count": 13,
      "outputs": [
        {
          "output_type": "stream",
          "name": "stdout",
          "text": [
            "1/1 [==============================] - 0s 18ms/step\n",
            "this digit is probably a 5\n"
          ]
        },
        {
          "output_type": "display_data",
          "data": {
            "text/plain": [
              "<Figure size 640x480 with 1 Axes>"
            ],
            "image/png": "[encoded data removed]"
          },
          "metadata": {}
        }
      ]
    },
    {
      "cell_type": "code",
      "source": [
        "os.path.isfile(\"img7.png\")\n",
        "img=cv2.imread(\"img7.png\")[:,:,0]\n",
        "img=np.invert(np.array([img]))\n",
        "prediction=model.predict(img)\n",
        "print(f\"this digit is probably a {np.argmax(prediction)}\")\n",
        "plt.imshow(img[0],cmap=plt.cm.binary)\n",
        "plt.show()"
      ],
      "metadata": {
        "colab": {
          "base_uri": "https://localhost:8080/",
          "height": 465
        },
        "id": "szSJfUHAQZya",
        "outputId": "3d8b6bf5-0fae-4b36-aed9-6139fb40d6bd"
      },
      "execution_count": 14,
      "outputs": [
        {
          "output_type": "stream",
          "name": "stdout",
          "text": [
            "1/1 [==============================] - 0s 14ms/step\n",
            "this digit is probably a 1\n"
          ]
        },
        {
          "output_type": "display_data",
          "data": {
            "text/plain": [
              "<Figure size 640x480 with 1 Axes>"
            ],
            "image/png": "[encoded data removed]"
          },
          "metadata": {}
        }
      ]
    }
  ]
}